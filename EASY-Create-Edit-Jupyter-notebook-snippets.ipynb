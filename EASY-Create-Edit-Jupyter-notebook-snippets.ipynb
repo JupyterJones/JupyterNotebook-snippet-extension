{
 "cells": [
  {
   "cell_type": "markdown",
   "metadata": {},
   "source": [
    "# Easy editor for the /nbextensions/snippets/snippets.json file"
   ]
  },
  {
   "cell_type": "code",
   "execution_count": null,
   "metadata": {},
   "outputs": [],
   "source": [
    "## One very nice Jupyter Notebook extension is the snippets.\n",
    "However as it exists it is not an easy edit . This makes adding snippets very easy .\n",
    "find the correct nbextensions/snippets/snippets.json and use the writefile magic\n",
    "to replace the existing snippets.json"
   ]
  },
  {
   "cell_type": "markdown",
   "metadata": {},
   "source": [
    "# HELP"
   ]
  },
  {
   "cell_type": "code",
   "execution_count": null,
   "metadata": {},
   "outputs": [],
   "source": [
    " \n",
    "Add a snippet name where it says: \n",
    "    name = \"<place name here>\"    \n",
    "replace: <place name here> with the snippet name.\n",
    "---------\n",
    "codes =''' \n",
    "<place code here> \n",
    "'''\n",
    "replace: <place code here> with snippet multiline is of course fine.\n",
    "This copies the original /nbextensions/snippets/snippets.json to the notebooks local \n",
    "directory as snippets-temp.json"
   ]
  },
  {
   "cell_type": "markdown",
   "metadata": {},
   "source": [
    "# The new snippets.json"
   ]
  },
  {
   "cell_type": "code",
   "execution_count": null,
   "metadata": {},
   "outputs": [],
   "source": [
    "%writefile /home/jack/.local/share/jupyter/nbextensions/snippets/snippets.json\n",
    "{\"snippets\":[\n",
    "            { \"name\" : \"HELP\", \"code\" :[              \" \",\n",
    "              \"Add a snippet name where it says: \",\n",
    "              \"    name = \\\"<place name here>\\\"    \",\n",
    "              \"replace: <place name here> with the snippet name.\",\n",
    "              \"---------\",\n",
    "              \"codes =''' \",\n",
    "              \"<place code here> \",\n",
    "              \"'''\",\n",
    "              \"replace: <place code here> with snippet multiline is of course fine.\",\n",
    "              \"This copies the original /nbextensions/snippets/snippets.json to the notebooks local \",\n",
    "              \"directory as snippets-temp.json\"\n",
    "            ]}\n",
    "            ,{ \"name\" : \"Add Snippet\", \"code\" :[\n",
    "            \"!cp /home/jack/.local/share/jupyter/nbextensions/snippets/snippets.json teststuff/snippets-temp.json\",\n",
    "            \"name = \\\" <place name here>\\\" \",\n",
    "            \"codes =\\\"\\\"\\\" \",\n",
    "            \"<place code here> \",\n",
    "            \"\\\"\\\"\\\" \",\n",
    "            \"count = 0 \",\n",
    "            \"for line in codes.split('\\\\n'): \",\n",
    "            \"    if len(line) > 0: \",\n",
    "            \"        count = count +1 \",\n",
    "            \"print(count) \",\n",
    "            \"f0 = open('teststuff/snippets-temp.json', 'r').readlines()\",\n",
    "            \"f1 = open('/home/jack/.local/share/jupyter/nbextensions/snippets/snippets.json', 'w')\",\n",
    "            \"for line in f0: \",\n",
    "            \"    if line[0:2] != \\\"]}\\\": \",\n",
    "            \"        f1.write(line) \",\n",
    "            \"f1.write('            ,{ \\\"name\\\" : \\\"'+name+'\\\", \\\"code\\\" :[')\",\n",
    "            \"codes =codes.split(\\\"\\\\n\\\") \",\n",
    "            \"cnt = 0 \",\n",
    "            \"for line in codes: \",\n",
    "            \"    if len(line) > 0: \",\n",
    "            \"        cnt = cnt+1 \",\n",
    "            \"        print (\\\"::\\\",cnt,line) \",\n",
    "            \"        line = line.replace('\\\"','\\\\\\\\\\\"') \",        \n",
    "            \"        if cnt != count: \",\n",
    "            \"            f1.write('              \\\"'+line+'\\\",\\\\n')\",\n",
    "            \"        if cnt == count: \",\n",
    "            \"            f1.write('              \\\"'+line+'\\\"\\\\n')\",\n",
    "            \"f1.write('            ]}\\\\n')\",\n",
    "            \"f1.write(']}\\\\n') \",\n",
    "            \"f1.close() \"\n",
    "            ]}\n",
    "            ,{ \"name\" : \"View snippet.jsons\", \"code\" :[              \" \",\n",
    "              \"filein = '/home/jack/.local/share/jupyter/nbextensions/snippets/snippets.json'\",\n",
    "              \"import json\",\n",
    "              \"from pprint import pprint\",\n",
    "              \"with open(filein) as f:\",\n",
    "              \"    data = json.load(f)\",\n",
    "              \"pprint(data)\"\n",
    "            ]}\n",
    "            ,{ \"name\" : \"random pause\", \"code\" :[              \" \",\n",
    "              \"from random import randint\",\n",
    "              \"from time import sleep\",\n",
    "              \"def rtime():\",\n",
    "              \"    rt =  randint(1,40)*.1\",\n",
    "              \"    nap = sleep(rt)\",\n",
    "              \"    return nap\"\n",
    "            ]}\n",
    "            \n",
    "            ,{ \"name\" : \"ignore numpy warnings\", \"code\" :[              \" \",\n",
    "              \"import warnings\",\n",
    "              \"warnings.filterwarnings(\\\"ignore\\\", message=\\\"numpy.dtype size changed\\\")\",\n",
    "              \"warnings.filterwarnings(\\\"ignore\\\", message=\\\"numpy.ufunc size changed\\\")\"\n",
    "            ]}\n",
    "            \n",
    "]}\n"
   ]
  },
  {
   "cell_type": "markdown",
   "metadata": {},
   "source": [
    "# Example:  Add Snippet "
   ]
  },
  {
   "cell_type": "code",
   "execution_count": 2,
   "metadata": {},
   "outputs": [
    {
     "name": "stdout",
     "output_type": "stream",
     "text": [
      "4\n",
      ":: 1  \n",
      ":: 2 import warnings\n",
      ":: 3 warnings.filterwarnings(\"ignore\", message=\"numpy.dtype size changed\")\n",
      ":: 4 warnings.filterwarnings(\"ignore\", message=\"numpy.ufunc size changed\")\n"
     ]
    }
   ],
   "source": [
    "!cp /home/jack/.local/share/jupyter/nbextensions/snippets/snippets.json teststuff/snippets-temp.json\n",
    "name = \"ignore numpy warnings\" \n",
    "codes =\"\"\" \n",
    "import warnings\n",
    "warnings.filterwarnings(\"ignore\", message=\"numpy.dtype size changed\")\n",
    "warnings.filterwarnings(\"ignore\", message=\"numpy.ufunc size changed\")\n",
    "\n",
    "\"\"\" \n",
    "from shutil import copyfile\n",
    "import os\n",
    "if not os.path.exists('jupyterEXT'):\n",
    "    os.makedirs('jupyterEXT')\n",
    "count = 0 \n",
    "for line in codes.split('\\n'): \n",
    "    if len(line) > 0: \n",
    "        count = count +1 \n",
    "print(count)\n",
    "copyfile('/home/jack/.local/share/jupyter/nbextensions/snippets/snippets.json', 'jupyterEXT/snippets-temp.json')\n",
    "f0 = open('jupyterEXT/snippets-temp.json', 'r').readlines()\n",
    "f1 = open('/home/jack/.local/share/jupyter/nbextensions/snippets/snippets.json', 'w')\n",
    "for line in f0: \n",
    "    if line[0:2] != \"]}\": \n",
    "        f1.write(line) \n",
    "f1.write('            ,{ \"name\" : \"'+name+'\", \"code\" :[')\n",
    "codes =codes.split(\"\\n\") \n",
    "cnt = 0 \n",
    "for line in codes: \n",
    "    if len(line) > 0: \n",
    "        cnt = cnt+1 \n",
    "        print (\"::\",cnt,line) \n",
    "        line = line.replace('\"','\\\\\"') \n",
    "        if cnt != count: \n",
    "            f1.write('              \"'+line+'\",\\n')\n",
    "        if cnt == count: \n",
    "            f1.write('              \"'+line+'\"\\n')\n",
    "f1.write('            ]}\\n')\n",
    "f1.write(']}\\n') \n",
    "f1.close() "
   ]
  },
  {
   "cell_type": "markdown",
   "metadata": {},
   "source": [
    "# View the snippets json\n",
    "This is good, if you have a problem, this will tell you where."
   ]
  },
  {
   "cell_type": "code",
   "execution_count": 2,
   "metadata": {
    "scrolled": true
   },
   "outputs": [
    {
     "name": "stdout",
     "output_type": "stream",
     "text": [
      "{'snippets': [{'code': [' ',\n",
      "                        'Add a snippet name where it says: ',\n",
      "                        '    name = \"<place name here>\"    ',\n",
      "                        'replace: <place name here> with the snippet name.',\n",
      "                        '---------',\n",
      "                        \"codes =''' \",\n",
      "                        '<place code here> ',\n",
      "                        \"'''\",\n",
      "                        'replace: <place code here> with snippet multiline is '\n",
      "                        'of course fine.',\n",
      "                        'This copies the original '\n",
      "                        '/nbextensions/snippets/snippets.json to the notebooks '\n",
      "                        'local ',\n",
      "                        'directory as snippets-temp.json'],\n",
      "               'name': 'HELP'},\n",
      "              {'code': ['!cp '\n",
      "                        '/home/jack/.local/share/jupyter/nbextensions/snippets/snippets.json '\n",
      "                        'teststuff/snippets-temp.json',\n",
      "                        'name = \" <place name here>\" ',\n",
      "                        'codes =\"\"\" ',\n",
      "                        '<place code here> ',\n",
      "                        '\"\"\" ',\n",
      "                        'count = 0 ',\n",
      "                        \"for line in codes.split('\\\\n'): \",\n",
      "                        '    if len(line) > 0: ',\n",
      "                        '        count = count +1 ',\n",
      "                        'print(count) ',\n",
      "                        \"f0 = open('teststuff/snippets-temp.json', \"\n",
      "                        \"'r').readlines()\",\n",
      "                        'f1 = '\n",
      "                        \"open('/home/jack/.local/share/jupyter/nbextensions/snippets/snippets.json', \"\n",
      "                        \"'w')\",\n",
      "                        'for line in f0: ',\n",
      "                        '    if line[0:2] != \"]}\": ',\n",
      "                        '        f1.write(line) ',\n",
      "                        'f1.write(\\'            ,{ \"name\" : \"\\'+name+\\'\", '\n",
      "                        '\"code\" :[\\')',\n",
      "                        'codes =codes.split(\"\\\\n\") ',\n",
      "                        'cnt = 0 ',\n",
      "                        'for line in codes: ',\n",
      "                        '    if len(line) > 0: ',\n",
      "                        '        cnt = cnt+1 ',\n",
      "                        '        print (\"::\",cnt,line) ',\n",
      "                        '        line = line.replace(\\'\"\\',\\'\\\\\\\\\"\\') ',\n",
      "                        '        if cnt != count: ',\n",
      "                        \"            f1.write('              \"\n",
      "                        '\"\\'+line+\\'\",\\\\n\\')',\n",
      "                        '        if cnt == count: ',\n",
      "                        \"            f1.write('              \"\n",
      "                        '\"\\'+line+\\'\"\\\\n\\')',\n",
      "                        \"f1.write('            ]}\\\\n')\",\n",
      "                        \"f1.write(']}\\\\n') \",\n",
      "                        'f1.close() '],\n",
      "               'name': 'Add Snippet'},\n",
      "              {'code': [' ',\n",
      "                        'filein = '\n",
      "                        \"'/home/jack/.local/share/jupyter/nbextensions/snippets/snippets.json'\",\n",
      "                        'import json',\n",
      "                        'from pprint import pprint',\n",
      "                        'with open(filein) as f:',\n",
      "                        '    data = json.load(f)',\n",
      "                        'pprint(data)'],\n",
      "               'name': 'View snippet.jsons'},\n",
      "              {'code': [' ',\n",
      "                        'from random import randint',\n",
      "                        'from time import sleep',\n",
      "                        'def rtime():',\n",
      "                        '    rt =  randint(1,40)*.1',\n",
      "                        '    nap = sleep(rt)',\n",
      "                        '    return nap'],\n",
      "               'name': 'random pause'},\n",
      "              {'code': [' ',\n",
      "                        'import warnings',\n",
      "                        'warnings.filterwarnings(\"ignore\", '\n",
      "                        'message=\"numpy.dtype size changed\")',\n",
      "                        'warnings.filterwarnings(\"ignore\", '\n",
      "                        'message=\"numpy.ufunc size changed\")'],\n",
      "               'name': 'ignore numpy warnings'}]}\n"
     ]
    }
   ],
   "source": [
    "filein = '/home/jack/.local/share/jupyter/nbextensions/snippets/snippets.json'\n",
    "import json\n",
    "from pprint import pprint\n",
    "with open(filein) as f:\n",
    "    data = json.load(f)\n",
    "pprint(data)"
   ]
  },
  {
   "cell_type": "code",
   "execution_count": null,
   "metadata": {},
   "outputs": [],
   "source": [
    "%%writefile SnippetWarehouse.py\n",
    "import json\n",
    "from shutil import copyfile\n",
    "import os\n",
    "if not os.path.exists('teststuff'):\n",
    "    os.makedirs('teststuff')\n",
    "def SnippetJson(name,codes):\n",
    "    copyfile('teststuff/snippets.json', 'teststuff/snippets-temp.json')\n",
    "    count = 0 \n",
    "    for line in codes.split('\\n'): \n",
    "        if len(line) > 0: \n",
    "            count = count +1 \n",
    "    f0 = open('teststuff/snippets-temp.json', 'r').readlines()\n",
    "    f1 = open('teststuff/snippets.json', 'w')\n",
    "    for line in f0: \n",
    "        if line[0:2] != \"]}\": \n",
    "            f1.write(line) \n",
    "    f1.write('            ,{ \"name\" : \"'+name+'\", \"code\" :[')\n",
    "    codes =codes.split(\"\\n\") \n",
    "    cnt = 0 \n",
    "    for line in codes: \n",
    "        if len(line) > 0: \n",
    "            cnt = cnt+1 \n",
    "            line = line.replace('\"','\\\\\"')\n",
    "            line = line.replace('\\\\n','\\n')\n",
    "            print (\"::\",cnt,line)\n",
    "            if cnt != count: \n",
    "                f1.write('              \"'+line+'\",\\n')\n",
    "            if cnt == count: \n",
    "                f1.write('              \"'+line+'\"\\n')\n",
    "    f1.write('            ]}\\n')\n",
    "    f1.write(']}\\n') \n",
    "    f1.close() \n",
    "\n",
    "def GetSnip():\n",
    "    with open('teststuff/snippets.json') as f:\n",
    "        data = json.load(f)\n",
    "        NUM = (len(data[\"snippets\"]))\n",
    "    for x in range(NUM):\n",
    "        name = data[\"snippets\"][x][\"name\"]\n",
    "        print (x,name)\n",
    "    print (\"=======================\\n\")    \n",
    "    NU = input(\"Pick a Number: \")\n",
    "    NU = int(NU)\n",
    "    for x in range(NUM):\n",
    "        if x == NU:\n",
    "            text = data[\"snippets\"][x][\"code\"]\n",
    "            for line in text:\n",
    "                print(line)    "
   ]
  },
  {
   "cell_type": "code",
   "execution_count": 7,
   "metadata": {},
   "outputs": [
    {
     "name": "stdout",
     "output_type": "stream",
     "text": [
      "{'snippets': [{'code': [' ',\n",
      "                        'Add a snippet name where it says: ',\n",
      "                        '    name = \"<place name here>\"    ',\n",
      "                        'replace: <place name here> with the snippet name.',\n",
      "                        '---------',\n",
      "                        \"codes =''' \",\n",
      "                        '<place code here> ',\n",
      "                        \"'''\",\n",
      "                        'replace: <place code here> with snippet multiline is '\n",
      "                        'of course fine.',\n",
      "                        'This copies the original '\n",
      "                        '/nbextensions/snippets/snippets.json to the notebooks '\n",
      "                        'local ',\n",
      "                        'directory as snippets-temp.json'],\n",
      "               'name': 'HELP'},\n",
      "              {'code': ['!cp '\n",
      "                        '/home/jack/.local/share/jupyter/nbextensions/snippets/snippets.json '\n",
      "                        'teststuff/snippets-temp.json',\n",
      "                        'name = \" <place name here>\" ',\n",
      "                        'codes =\"\"\" ',\n",
      "                        '<place code here> ',\n",
      "                        '\"\"\" ',\n",
      "                        'count = 0 ',\n",
      "                        \"for line in codes.split('\\\\n'): \",\n",
      "                        '    if len(line) > 0: ',\n",
      "                        '        count = count +1 ',\n",
      "                        'print(count) ',\n",
      "                        \"f0 = open('teststuff/snippets-temp.json', \"\n",
      "                        \"'r').readlines()\",\n",
      "                        'f1 = '\n",
      "                        \"open('/home/jack/.local/share/jupyter/nbextensions/snippets/snippets.json', \"\n",
      "                        \"'w')\",\n",
      "                        'for line in f0: ',\n",
      "                        '    if line[0:2] != \"]}\": ',\n",
      "                        '        f1.write(line) ',\n",
      "                        'f1.write(\\'            ,{ \"name\" : \"\\'+name+\\'\", '\n",
      "                        '\"code\" :[\\')',\n",
      "                        'codes =codes.split(\"\\\\n\") ',\n",
      "                        'cnt = 0 ',\n",
      "                        'for line in codes: ',\n",
      "                        '    if len(line) > 0: ',\n",
      "                        '        cnt = cnt+1 ',\n",
      "                        '        print (\"::\",cnt,line) ',\n",
      "                        '        line = line.replace(\\'\"\\',\\'\\\\\\\\\"\\') ',\n",
      "                        '        if cnt != count: ',\n",
      "                        \"            f1.write('              \"\n",
      "                        '\"\\'+line+\\'\",\\\\n\\')',\n",
      "                        '        if cnt == count: ',\n",
      "                        \"            f1.write('              \"\n",
      "                        '\"\\'+line+\\'\"\\\\n\\')',\n",
      "                        \"f1.write('            ]}\\\\n')\",\n",
      "                        \"f1.write(']}\\\\n') \",\n",
      "                        'f1.close() '],\n",
      "               'name': 'Add Snippet'},\n",
      "              {'code': [' ',\n",
      "                        'filein = '\n",
      "                        \"'/home/jack/.local/share/jupyter/nbextensions/snippets/snippets.json'\",\n",
      "                        'import json',\n",
      "                        'from pprint import pprint',\n",
      "                        'with open(filein) as f:',\n",
      "                        '    data = json.load(f)',\n",
      "                        'pprint(data)'],\n",
      "               'name': 'View snippet.jsons'},\n",
      "              {'code': [' ',\n",
      "                        'from random import randint',\n",
      "                        'from time import sleep',\n",
      "                        'def rtime():',\n",
      "                        '    rt =  randint(1,40)*.1',\n",
      "                        '    nap = sleep(rt)',\n",
      "                        '    return nap'],\n",
      "               'name': 'random pause'},\n",
      "              {'code': [' ',\n",
      "                        'import warnings',\n",
      "                        'warnings.filterwarnings(\"ignore\", '\n",
      "                        'message=\"numpy.dtype size changed\")',\n",
      "                        'warnings.filterwarnings(\"ignore\", '\n",
      "                        'message=\"numpy.ufunc size changed\")'],\n",
      "               'name': 'ignore numpy warnings'}]}\n"
     ]
    }
   ],
   "source": [
    "import json\n",
    "from pprint import pprint\n",
    "with open('teststuff/snippets-temp.json') as f:\n",
    "    data = json.load(f)\n",
    "\n",
    "pprint(data)"
   ]
  },
  {
   "cell_type": "code",
   "execution_count": 8,
   "metadata": {},
   "outputs": [
    {
     "name": "stdout",
     "output_type": "stream",
     "text": [
      " \n",
      "Add a snippet name where it says: \n",
      "    name = \"<place name here>\"    \n",
      "replace: <place name here> with the snippet name.\n",
      "---------\n",
      "codes =''' \n",
      "<place code here> \n",
      "'''\n",
      "replace: <place code here> with snippet multiline is of course fine.\n",
      "This copies the original /nbextensions/snippets/snippets.json to the notebooks local \n",
      "directory as snippets-temp.json\n"
     ]
    }
   ],
   "source": [
    "text = data[\"snippets\"][0][\"code\"]\n",
    "for line in text:\n",
    "    print(line)"
   ]
  },
  {
   "cell_type": "code",
   "execution_count": 25,
   "metadata": {},
   "outputs": [
    {
     "name": "stdout",
     "output_type": "stream",
     "text": [
      "snippets\n"
     ]
    }
   ],
   "source": [
    "import json\n",
    "from pprint import pprint\n",
    "with open('teststuff/snippets-temp.json') as f:\n",
    "    data = json.load(f)\n",
    "    for line in data:\n",
    "        print (line)\n",
    "        "
   ]
  },
  {
   "cell_type": "code",
   "execution_count": 25,
   "metadata": {},
   "outputs": [
    {
     "name": "stdout",
     "output_type": "stream",
     "text": [
      "snippets\n"
     ]
    }
   ],
   "source": [
    "import json\n",
    "from pprint import pprint\n",
    "with open('teststuff/snippets-temp.json') as f:\n",
    "    data = json.load(f)\n",
    "    for line in data:\n",
    "        print (line)\n",
    "        "
   ]
  },
  {
   "cell_type": "code",
   "execution_count": 60,
   "metadata": {},
   "outputs": [
    {
     "name": "stdout",
     "output_type": "stream",
     "text": [
      "0 HELP\n",
      "1 Add Snippet\n",
      "2 View snippet.jsons\n",
      "3 random pause\n",
      "4 ignore numpy warnings\n",
      "=======================\n",
      "\n",
      "Pick a Number: 4\n",
      " \n",
      "import warnings\n",
      "warnings.filterwarnings(\"ignore\", message=\"numpy.dtype size changed\")\n",
      "warnings.filterwarnings(\"ignore\", message=\"numpy.ufunc size changed\")\n"
     ]
    }
   ],
   "source": [
    "import json\n",
    "from pprint import pprint\n",
    "x = 0\n",
    "with open('teststuff/snippets-temp.json') as f:\n",
    "    data = json.load(f)\n",
    "    NUM = (len(data[\"snippets\"]))\n",
    "\n",
    "for x in range(NUM):\n",
    "    name = data[\"snippets\"][x][\"name\"]\n",
    "    print (x,name)\n",
    "\n",
    "print (\"=======================\\n\")    \n",
    "NU = input(\"Pick a Number: \")\n",
    "NU = int(NU)\n",
    "for x in range(NUM):\n",
    "    if x == NU:\n",
    "        text = data[\"snippets\"][x][\"code\"]\n",
    "        for line in text:\n",
    "            print(line)"
   ]
  },
  {
   "cell_type": "code",
   "execution_count": 45,
   "metadata": {},
   "outputs": [
    {
     "name": "stdout",
     "output_type": "stream",
     "text": [
      "0 HELP\n",
      "1 Add Snippet\n",
      "2 View snippet.jsons\n",
      "3 random pause\n",
      "4 ignore numpy warnings\n",
      "Pick a number to view.1\n",
      "['!cp /home/jack/.local/share/jupyter/nbextensions/snippets/snippets.json '\n",
      " 'teststuff/snippets-temp.json',\n",
      " 'name = \" <place name here>\" ',\n",
      " 'codes =\"\"\" ',\n",
      " '<place code here> ',\n",
      " '\"\"\" ',\n",
      " 'count = 0 ',\n",
      " \"for line in codes.split('\\\\n'): \",\n",
      " '    if len(line) > 0: ',\n",
      " '        count = count +1 ',\n",
      " 'print(count) ',\n",
      " \"f0 = open('teststuff/snippets-temp.json', 'r').readlines()\",\n",
      " 'f1 = '\n",
      " \"open('/home/jack/.local/share/jupyter/nbextensions/snippets/snippets.json', \"\n",
      " \"'w')\",\n",
      " 'for line in f0: ',\n",
      " '    if line[0:2] != \"]}\": ',\n",
      " '        f1.write(line) ',\n",
      " 'f1.write(\\'            ,{ \"name\" : \"\\'+name+\\'\", \"code\" :[\\')',\n",
      " 'codes =codes.split(\"\\\\n\") ',\n",
      " 'cnt = 0 ',\n",
      " 'for line in codes: ',\n",
      " '    if len(line) > 0: ',\n",
      " '        cnt = cnt+1 ',\n",
      " '        print (\"::\",cnt,line) ',\n",
      " '        line = line.replace(\\'\"\\',\\'\\\\\\\\\"\\') ',\n",
      " '        if cnt != count: ',\n",
      " '            f1.write(\\'              \"\\'+line+\\'\",\\\\n\\')',\n",
      " '        if cnt == count: ',\n",
      " '            f1.write(\\'              \"\\'+line+\\'\"\\\\n\\')',\n",
      " \"f1.write('            ]}\\\\n')\",\n",
      " \"f1.write(']}\\\\n') \",\n",
      " 'f1.close() ']\n"
     ]
    }
   ],
   "source": [
    "import json\n",
    "from pprint import pprint\n",
    "with open('teststuff/snippets-temp.json') as f:\n",
    "    data = json.load(f)\n",
    "    num = (len(data[\"snippets\"]))\n",
    "for x in range(num):\n",
    "    name = data[\"snippets\"][x][\"name\"]\n",
    "    print (x,name)\n",
    "NUM = input(\"Pick a number to view.\")\n",
    "NU = int(NUM)\n",
    "\n",
    "for x in range(num):\n",
    "    if x == NU:\n",
    "        pprint(data[\"snippets\"][NU][\"code\"])\n",
    "\n",
    "\n"
   ]
  },
  {
   "cell_type": "code",
   "execution_count": 44,
   "metadata": {},
   "outputs": [],
   "source": [
    "LINES = []\n",
    "def R():\n",
    "    f = open('teststuff/snippets-temp.json', 'r').readlines()\n",
    "    for lines in f:\n",
    "        LINES.append(lines)\n",
    "    return LINES[-1]"
   ]
  },
  {
   "cell_type": "code",
   "execution_count": 33,
   "metadata": {},
   "outputs": [
    {
     "data": {
      "text/plain": [
       "']}\\n'"
      ]
     },
     "execution_count": 33,
     "metadata": {},
     "output_type": "execute_result"
    }
   ],
   "source": [
    "R()"
   ]
  },
  {
   "cell_type": "code",
   "execution_count": 15,
   "metadata": {},
   "outputs": [
    {
     "name": "stdout",
     "output_type": "stream",
     "text": [
      "{\"snippets\":[\n",
      "            { \"name\" : \"HELP\", \"code\" :[              \" \",\n",
      "              \"Add a snippet name where it says: \",\n",
      "              \"    name = \\\"<place name here>\\\"    \",\n",
      "              \"replace: <place name here> with the snippet name.\",\n",
      "              \"---------\",\n",
      "              \"codes =''' \",\n",
      "              \"<place code here> \",\n",
      "              \"'''\",\n",
      "              \"replace: <place code here> with snippet multiline is of course fine.\",\n",
      "              \"This copies the original /nbextensions/snippets/snippets.json to the notebooks local \",\n",
      "              \"directory as snippets-temp.json\"\n",
      "            ]}\n",
      "            ,{ \"name\" : \"Add Snippet\", \"code\" :[\n",
      "            \"!cp /home/jack/.local/share/jupyter/nbextensions/snippets/snippets.json teststuff/snippets-temp.json\",\n",
      "            \"name = \\\" <place name here>\\\" \",\n",
      "            \"codes =\\\"\\\"\\\" \",\n",
      "            \"<place code here> \",\n",
      "            \"\\\"\\\"\\\" \",\n",
      "            \"count = 0 \",\n",
      "            \"for line in codes.split('\\\\n'): \",\n",
      "            \"    if len(line) > 0: \",\n",
      "            \"        count = count +1 \",\n",
      "            \"print(count) \",\n",
      "            \"f0 = open('teststuff/snippets-temp.json', 'r').readlines()\",\n",
      "            \"f1 = open('/home/jack/.local/share/jupyter/nbextensions/snippets/snippets.json', 'w')\",\n",
      "            \"for line in f0: \",\n",
      "            \"    if line[0:2] != \\\"]}\\\": \",\n",
      "            \"        f1.write(line) \",\n",
      "            \"f1.write('            ,{ \\\"name\\\" : \\\"'+name+'\\\", \\\"code\\\" :[')\",\n",
      "            \"codes =codes.split(\\\"\\\\n\\\") \",\n",
      "            \"cnt = 0 \",\n",
      "            \"for line in codes: \",\n",
      "            \"    if len(line) > 0: \",\n",
      "            \"        cnt = cnt+1 \",\n",
      "            \"        print (\\\"::\\\",cnt,line) \",\n",
      "            \"        line = line.replace('\\\"','\\\\\\\\\\\"') \",        \n",
      "            \"        if cnt != count: \",\n",
      "            \"            f1.write('              \\\"'+line+'\\\",\\\\n')\",\n",
      "            \"        if cnt == count: \",\n",
      "            \"            f1.write('              \\\"'+line+'\\\"\\\\n')\",\n",
      "            \"f1.write('            ]}\\\\n')\",\n",
      "            \"f1.write(']}\\\\n') \",\n",
      "            \"f1.close() \"\n",
      "            ]}\n",
      "            ,{ \"name\" : \"View snippet.jsons\", \"code\" :[              \" \",\n",
      "              \"filein = '/home/jack/.local/share/jupyter/nbextensions/snippets/snippets.json'\",\n",
      "              \"import json\",\n",
      "              \"from pprint import pprint\",\n",
      "              \"with open(filein) as f:\",\n",
      "              \"    data = json.load(f)\",\n",
      "              \"pprint(data)\"\n",
      "            ]}\n",
      "            ,{ \"name\" : \"random pause\", \"code\" :[              \" \",\n",
      "              \"from random import randint\",\n",
      "              \"from time import sleep\",\n",
      "              \"def rtime():\",\n",
      "              \"    rt =  randint(1,40)*.1\",\n",
      "              \"    nap = sleep(rt)\",\n",
      "              \"    return nap\"\n",
      "            ]}\n",
      "            \n",
      "            ,{ \"name\" : \"ignore numpy warnings\", \"code\" :[              \" \",\n",
      "              \"import warnings\",\n",
      "              \"warnings.filterwarnings(\\\"ignore\\\", message=\\\"numpy.dtype size changed\\\")\",\n",
      "              \"warnings.filterwarnings(\\\"ignore\\\", message=\\\"numpy.ufunc size changed\\\")\"\n",
      "            ]}\n",
      "]}\n"
     ]
    }
   ],
   "source": [
    "for line in LINES:\n",
    "    line = line.replace('\\n', '')\n",
    "    print (''.join(line))"
   ]
  },
  {
   "cell_type": "code",
   "execution_count": 19,
   "metadata": {},
   "outputs": [
    {
     "name": "stdout",
     "output_type": "stream",
     "text": [
      "##\n",
      "thgis ia a text this %%## is to\n",
      "%%## is to1\n",
      "\n"
     ]
    }
   ],
   "source": [
    "test = \"##thgis ia a text this %%## is to123\"\n",
    "print (test[0:2])\n",
    "print (test[2:-3])\n",
    "print (test[-13:-2])\n",
    "print (test[-10:3])\n"
   ]
  },
  {
   "cell_type": "code",
   "execution_count": 22,
   "metadata": {},
   "outputs": [],
   "source": [
    "name = 'make list'\n",
    "codes =\"\"\"\n",
    "LINES = []\n",
    "def R():\n",
    "    f = open('teststuff/snippets.json', 'r').readlines()\n",
    "    for lines in f:\n",
    "        LINES.append(lines)\n",
    "    return LINES[-1]\n",
    "\"\"\""
   ]
  },
  {
   "cell_type": "code",
   "execution_count": 23,
   "metadata": {},
   "outputs": [
    {
     "name": "stdout",
     "output_type": "stream",
     "text": [
      "'make list'\n",
      "'LINES = []'\n",
      "'def R():'\n",
      "'    f = open('teststuff/snippets.json', 'r').readlines()'\n",
      "'    for lines in f:'\n",
      "'        LINES.append(lines)'\n",
      "'    return LINES[-1]'\n"
     ]
    }
   ],
   "source": [
    "print (\"'\"+name+\"'\")\n",
    "codes =codes.split(\"\\n\")\n",
    "for line in codes:\n",
    "    if len(line) > 0:\n",
    "        print (\"'\"+line+\"'\")"
   ]
  },
  {
   "cell_type": "code",
   "execution_count": 70,
   "metadata": {},
   "outputs": [
    {
     "name": "stdout",
     "output_type": "stream",
     "text": [
      "Overwriting SnippetWarehouse.py\n"
     ]
    }
   ],
   "source": [
    "%%writefile SnippetWarehouse.py\n",
    "import json\n",
    "\n",
    "def SnippetJson(name,codes):\n",
    "    count = 0 \n",
    "    for line in codes.split('\\n'): \n",
    "        if len(line) > 0: \n",
    "            count = count +1 \n",
    "    f0 = open('teststuff/snippets-temp.json', 'r').readlines()\n",
    "    f1 = open('teststuff/snippets.json', 'w')\n",
    "    for line in f0: \n",
    "        if line[0:2] != \"]}\": \n",
    "            f1.write(line) \n",
    "    f1.write('            ,{ \"name\" : \"'+name+'\", \"code\" :[')\n",
    "    codes =codes.split(\"\\n\") \n",
    "    cnt = 0 \n",
    "    for line in codes: \n",
    "        if len(line) > 0: \n",
    "            cnt = cnt+1 \n",
    "            print (\"::\",cnt,line) \n",
    "            line = line.replace('\"','\\\\\"') \n",
    "            if cnt != count: \n",
    "                f1.write('              \"'+line+'\",\\n')\n",
    "            if cnt == count: \n",
    "                f1.write('              \"'+line+'\"\\n')\n",
    "    f1.write('            ]}\\n')\n",
    "    f1.write(']}\\n') \n",
    "    f1.close() \n",
    "\n",
    "def GetSnip():\n",
    "    with open('teststuff/snippets.json') as f:\n",
    "        data = json.load(f)\n",
    "        NUM = (len(data[\"snippets\"]))\n",
    "    for x in range(NUM):\n",
    "        name = data[\"snippets\"][x][\"name\"]\n",
    "        print (x,name)\n",
    "    print (\"=======================\\n\")    \n",
    "    NU = input(\"Pick a Number: \")\n",
    "    NU = int(NU)\n",
    "    for x in range(NUM):\n",
    "        if x == NU:\n",
    "            text = data[\"snippets\"][x][\"code\"]\n",
    "            for line in text:\n",
    "                print(line)    "
   ]
  },
  {
   "cell_type": "code",
   "execution_count": 67,
   "metadata": {},
   "outputs": [
    {
     "name": "stdout",
     "output_type": "stream",
     "text": [
      ":: 1 # https://www.dataquest.io/blog/jupyter-notebook-tips-tricks-shortcuts/\n",
      ":: 2 !pip install https://github.com/ipython-contrib/jupyter_contrib_nbextensions/tarball/master\n",
      ":: 3 !pip install jupyter_nbextensions_configurator\n",
      ":: 4 !jupyter contrib nbextension install --user\n",
      ":: 5 !jupyter nbextensions_configurator enable --user\n"
     ]
    }
   ],
   "source": [
    "from SnippetWarehouse import *\n",
    "#GetSnip()\n",
    "name = 'jupyter extensions'\n",
    "codes =\"\"\"\n",
    "# https://www.dataquest.io/blog/jupyter-notebook-tips-tricks-shortcuts/\n",
    "!pip install https://github.com/ipython-contrib/jupyter_contrib_nbextensions/tarball/master\n",
    "!pip install jupyter_nbextensions_configurator\n",
    "!jupyter contrib nbextension install --user\n",
    "!jupyter nbextensions_configurator enable --user\n",
    "\"\"\"\n",
    "SnippetJson(name,codes)"
   ]
  },
  {
   "cell_type": "code",
   "execution_count": 7,
   "metadata": {},
   "outputs": [
    {
     "name": "stdout",
     "output_type": "stream",
     "text": [
      "0 HELP\n",
      "1 Add Snippet\n",
      "2 View snippet.jsons\n",
      "3 random pause\n",
      "4 ignore numpy warnings\n",
      "5 Store Ext path\n",
      "=======================\n",
      "\n",
      "Pick a Number: 5\n",
      "\n",
      "import os\n",
      "import os.path\n",
      "title = \"mp4.list\"\n",
      "f= open(title,\"w\")\n",
      "f.close()\n",
      "count=0\n",
      "for dirpath, dirnames, filenames in os.walk(\"/home/jack/\"):\n",
      "   for filename in [f for f in filenames if f.endswith(\".mp4\")]:\n",
      "       count=count+1\n",
      "       Path = os.path.join(dirpath, filename)\n",
      "       with open(title, 'a') as outfile:\n",
      "           path = Path+'\n",
      "'\n",
      "           outfile.write(path)\n",
      "\n"
     ]
    }
   ],
   "source": [
    "from SnippetWarehouse import *\n",
    "GetSnip()"
   ]
  },
  {
   "cell_type": "code",
   "execution_count": 6,
   "metadata": {},
   "outputs": [
    {
     "name": "stdout",
     "output_type": "stream",
     "text": [
      "           \"replace: <place name here> with the snippet name.\",\n",
      "\n",
      "           \"replace: <place code here> with snippet multiline is of course fine.\",\n",
      "\n",
      "           \"This copies the original /nbextensions/snippets/snippets.json to the notebooks local \",\n",
      "\n",
      "           \"directory as snippets-temp.json\"\n",
      "\n",
      "         \"!cp /home/jack/.local/share/jupyter/nbextensions/snippets/snippets.json teststuff/snippets-temp.json\",\n",
      "\n",
      "         \"f0 = open('teststuff/snippets-temp.json', 'r').readlines()\",\n",
      "\n",
      "         \"f1 = open('/home/jack/.local/share/jupyter/nbextensions/snippets/snippets.json', 'w')\",\n",
      "\n",
      "         ,{ \"name\" : \"View snippet.jsons\", \"code\" :[              \" \",\n",
      "\n",
      "           \"filein = '/home/jack/.local/share/jupyter/nbextensions/snippets/snippets.json'\",\n",
      "\n"
     ]
    }
   ],
   "source": [
    "from itertools import tee\n",
    "count=0\n",
    "with open(\"teststuff/snippets.json\") as inf:\n",
    "    # set up iterators\n",
    "    cfg,res = tee(inf)\n",
    "    # advance cfg by four lines\n",
    "    for i in range(4):\n",
    "        next(cfg)\n",
    "\n",
    "    for c,r in zip(cfg, res):\n",
    "        count=count+1\n",
    "        if \"snippet\" in c:\n",
    "            #print \"Date :\",c[21:]\n",
    "            print (c[3:])\n"
   ]
  },
  {
   "cell_type": "code",
   "execution_count": null,
   "metadata": {},
   "outputs": [],
   "source": []
  }
 ],
 "metadata": {
  "kernelspec": {
   "display_name": "Python [conda env:py35]",
   "language": "python",
   "name": "conda-env-py35-py"
  },
  "language_info": {
   "codemirror_mode": {
    "name": "ipython",
    "version": 3
   },
   "file_extension": ".py",
   "mimetype": "text/x-python",
   "name": "python",
   "nbconvert_exporter": "python",
   "pygments_lexer": "ipython3",
   "version": "3.5.4"
  }
 },
 "nbformat": 4,
 "nbformat_minor": 2
}
